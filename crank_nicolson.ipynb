{
 "cells": [
  {
   "cell_type": "code",
   "execution_count": null,
   "id": "c6f034a2",
   "metadata": {},
   "outputs": [],
   "source": [
    "import numpy as np\n",
    "import matplotlib.pyplot as plt\n",
    "import scipy as sp\n",
    "\n",
    "plt.style.use(\"default\")\n",
    "plt.rc(\"text\", usetex=True)\n",
    "plt.rc(\"font\", family=\"cm\")\n",
    "plt.rcParams[\"grid.color\"] = (0.5, 0.5, 0.5, 0.2)"
   ]
  },
  {
   "cell_type": "code",
   "execution_count": null,
   "id": "f0568d34",
   "metadata": {},
   "outputs": [],
   "source": [
    "L = 500\n",
    "x_0 = 200\n",
    "q = 2\n",
    "sigma = 20\n",
    "a = 250\n",
    "b = 260\n",
    "V_0 = 1.7\n",
    "N_x = 2000\n",
    "dx = L/N_x\n",
    "N_t = 10000\n",
    "dt = 0.1\n",
    "alpha = dt/(2*dx**2)"
   ]
  },
  {
   "cell_type": "code",
   "execution_count": null,
   "id": "a11bfd92",
   "metadata": {},
   "outputs": [],
   "source": [
    "# potential barrier\n",
    "x = np.linspace(0, L, N_x+1)\n",
    "V_x = np.zeros((N_x+1))\n",
    "V_x[(x>=a) & (x<=b)] = V_0"
   ]
  },
  {
   "cell_type": "code",
   "execution_count": null,
   "id": "a9528a51",
   "metadata": {},
   "outputs": [],
   "source": [
    "# wave function - initial solution\n",
    "psi_0 = np.exp(1j*q*x) * np.exp(-(x-x_0)**2/sigma**2)\n",
    "psi_0 = psi_0 / np.sqrt(np.sum(np.abs(psi_0)**2))"
   ]
  },
  {
   "cell_type": "code",
   "execution_count": null,
   "id": "fcebd550",
   "metadata": {},
   "outputs": [],
   "source": [
    "# crank nicolson matrix (implicit method)\n",
    "M = np.diag(1 + 2*1j*alpha - 1j*dt*V_x)\n",
    "M += np.diag(np.full(N_x, 1j*alpha), -1)\n",
    "M += np.diag(np.full(N_x, 1j*alpha), 1)\n",
    "M"
   ]
  },
  {
   "cell_type": "code",
   "execution_count": null,
   "id": "a0880261",
   "metadata": {},
   "outputs": [],
   "source": [
    "# time evolution matrix from t to t+dt\n",
    "C = 0.5 * np.matmul(sp.linalg.inv(np.eye(N_x+1) - 0.5*M), M)\n",
    "C"
   ]
  },
  {
   "cell_type": "code",
   "execution_count": null,
   "id": "6b80804f",
   "metadata": {},
   "outputs": [],
   "source": [
    "# wave functions vector\n",
    "psi = np.zeros((N_x+1, N_t+1), dtype=np.complex128)\n",
    "psi[:, 0] = psi_0"
   ]
  },
  {
   "cell_type": "code",
   "execution_count": null,
   "id": "0d55a21c",
   "metadata": {},
   "outputs": [],
   "source": [
    "for k in range(N_t):\n",
    "    psi[:, k+1] = np.matmul(C, psi[:,k])\n",
    "    # normalization\n",
    "    psi[:, k+1] = psi[:, k+1] / np.sqrt(np.sum(np.abs(psi[:, k+1])**2))"
   ]
  },
  {
   "cell_type": "code",
   "execution_count": null,
   "id": "6a153de0",
   "metadata": {},
   "outputs": [],
   "source": [
    "%%capture\n",
    "from matplotlib.animation import FuncAnimation, PillowWriter\n",
    "fig, ax = plt.subplots(nrows=1, ncols=1, figsize=(10,8))\n",
    "\n",
    "def animate(t): \n",
    "    ax.clear()\n",
    "    ax.plot(x, np.real(psi[:, t*40]), lw=0.75, color='blue', label='Re($\\psi$)')\n",
    "    ax.axvline(a, ls=\"--\", c=\"red\", lw=0.5, ymin=0.5)\n",
    "    ax.axvline(b, ls=\"--\", c=\"red\", lw=0.5, ymin=0.5)\n",
    "    ax.set_title('Wave Function Time Evolution')\n",
    "    ax.set_xlabel('$x$')\n",
    "    ax.set_ylabel('$\\psi \\, (x,t)$')\n",
    "    ax.set_xlim([0, 500])\n",
    "    ax.set_ylim([-0.3, 0.3])\n",
    "    ax.grid()\n",
    "    ax.legend()\n",
    "       \n",
    "anim = FuncAnimation(fig, animate, int(N_t/40), blit=False)\n",
    "anim.save(\"images/psi_position.gif\", writer=PillowWriter(fps=100), dpi=150)"
   ]
  },
  {
   "cell_type": "code",
   "execution_count": null,
   "id": "46def2b7",
   "metadata": {},
   "outputs": [],
   "source": [
    "%%capture\n",
    "fig, ax = plt.subplots(nrows=1, ncols=1, figsize=(10,8))\n",
    "\n",
    "def animate(t):\n",
    "    ax.clear()\n",
    "    ax.plot(x, np.abs(psi[:, t*40])**2, lw=0.75, color=\"blue\")\n",
    "    ax.axvline(a, ls=\"--\", c=\"red\", lw=0.5, ymin=0)\n",
    "    ax.axvline(b, ls=\"--\", c=\"red\", lw=0.5, ymin=0)\n",
    "    ax.set_title('Probability')\n",
    "    ax.set_xlabel('$x$')\n",
    "    ax.set_ylabel('$|\\psi \\, (x,t)|^2$')\n",
    "    ax.set_xlim([0, 500])\n",
    "    ax.set_ylim([0.0, 0.02])\n",
    "    ax.grid()\n",
    "       \n",
    "anim = FuncAnimation(fig, animate, int(N_t/40), blit=False)\n",
    "anim.save(\"images/psi_probability.gif\", writer=PillowWriter(fps=100), dpi=150)"
   ]
  }
 ],
 "metadata": {
  "kernelspec": {
   "display_name": "Python 3 (ipykernel)",
   "language": "python",
   "name": "python3"
  },
  "language_info": {
   "codemirror_mode": {
    "name": "ipython",
    "version": 3
   },
   "file_extension": ".py",
   "mimetype": "text/x-python",
   "name": "python",
   "nbconvert_exporter": "python",
   "pygments_lexer": "ipython3",
   "version": "3.10.12"
  }
 },
 "nbformat": 4,
 "nbformat_minor": 5
}
