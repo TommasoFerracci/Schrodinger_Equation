{
 "cells": [
  {
   "cell_type": "code",
   "execution_count": null,
   "id": "86a2b7ff",
   "metadata": {},
   "outputs": [],
   "source": [
    "import numpy as np\n",
    "import matplotlib.pyplot as plt\n",
    "\n",
    "plt.style.use(\"default\")\n",
    "plt.rc(\"text\", usetex=True)\n",
    "plt.rc(\"font\", family=\"cm\")\n",
    "plt.rcParams[\"grid.color\"] = (0.5, 0.5, 0.5, 0.2)"
   ]
  },
  {
   "cell_type": "code",
   "execution_count": null,
   "id": "a0056133",
   "metadata": {},
   "outputs": [],
   "source": [
    "L = 10\n",
    "N_x = 1000\n",
    "h = L/N_x\n",
    "N_E = 10000\n",
    "E = np.linspace(0, 10, N_E+1)\n",
    "a = 3\n",
    "b = 7\n",
    "s = 10e-8"
   ]
  },
  {
   "cell_type": "code",
   "execution_count": null,
   "id": "5010bfef",
   "metadata": {},
   "outputs": [],
   "source": [
    "y = np.zeros((N_x+1))\n",
    "y[1] = 0.01 # initial guess (only affects normalization)"
   ]
  },
  {
   "cell_type": "code",
   "execution_count": null,
   "id": "4d5604c4",
   "metadata": {},
   "outputs": [],
   "source": [
    "def propagator(y, V, E): \n",
    "    for i in range(2, N_x+1):\n",
    "        y[i] = 1/(6+(E-V[i])*h**2) * ((-10*h**2*(E-V[i-1])+12)*y[i-1] - ((E-V[i-2])*h**2+6)*y[i-2])\n",
    "    return y"
   ]
  },
  {
   "cell_type": "markdown",
   "id": "5f974fae",
   "metadata": {},
   "source": [
    "**Finite Potential Well**"
   ]
  },
  {
   "cell_type": "code",
   "execution_count": null,
   "id": "db2560a5",
   "metadata": {},
   "outputs": [],
   "source": [
    "V = np.zeros((N_x+1)) # null potential in [0, N_x]\n",
    "\n",
    "y_end = np.zeros((N_E+1))\n",
    "for j in range(N_E+1):\n",
    "    y_end[j] = propagator(y, V, E[j])[-1]"
   ]
  },
  {
   "cell_type": "code",
   "execution_count": null,
   "id": "1e9c5965",
   "metadata": {},
   "outputs": [],
   "source": [
    "eigenvalues = []\n",
    "eigenfunctions = []\n",
    "for k in range(N_E):\n",
    "    if y_end[k]*y_end[k+1] < 0:\n",
    "        a, b = E[k], E[k+1]\n",
    "        err = 1\n",
    "        while err > s:\n",
    "            if propagator(y, V, a)[-1]*propagator(y, V, b)[-1] < 0:\n",
    "                c = (a+b)/2\n",
    "                if propagator(y, V, a)[-1]*propagator(y, V, c)[-1] < 0:\n",
    "                    b = c\n",
    "                else:\n",
    "                    a = c\n",
    "            err = b-a\n",
    "        e = (a+b)/2\n",
    "        v = propagator(y, V, e)\n",
    "        eigenvalues.append(e)\n",
    "        eigenfunctions.append(v/np.sqrt(np.sum(v**2)))"
   ]
  },
  {
   "cell_type": "code",
   "execution_count": null,
   "id": "940c768c",
   "metadata": {},
   "outputs": [],
   "source": [
    "fig, ax = plt.subplots(nrows = 1, ncols=1, figsize=(15,12))\n",
    "\n",
    "ax.set_title('Normalized Eigenfunctions - Finite Potential Well')\n",
    "ax.set_xlabel('$x$', fontsize=12)\n",
    "ax.set_ylabel('$\\psi \\: (x)$', fontsize=12)\n",
    "\n",
    "for i in range(len(eigenfunctions)):\n",
    "    ax.plot(np.linspace(0, L, N_x+1), eigenfunctions[i], label=f'$\\psi_{ {i} }$')\n",
    "\n",
    "ax.grid()\n",
    "ax.legend(loc=(1.01, 0.35))     \n",
    "\n",
    "fig.savefig(\"images/finite_potential_well.png\", dpi=300, bbox_inches=\"tight\", pad_inches=0.2);"
   ]
  },
  {
   "cell_type": "markdown",
   "id": "8de2d12f",
   "metadata": {},
   "source": [
    "**Step Potential**"
   ]
  },
  {
   "cell_type": "code",
   "execution_count": null,
   "id": "20bd67f2",
   "metadata": {},
   "outputs": [],
   "source": [
    "V = np.zeros((N_x+1))\n",
    "for i, x in enumerate(np.linspace(0, L, N_x+1)):\n",
    "    if x >= 3 and x <= 7:\n",
    "        V[i] = 1 # V = 1 in [3, 7]\n",
    "        \n",
    "y_end = np.zeros((N_E+1))\n",
    "for j in range(N_E+1):\n",
    "    y_end[j] = propagator(y, V, E[j])[-1]"
   ]
  },
  {
   "cell_type": "code",
   "execution_count": null,
   "id": "444c5d42",
   "metadata": {},
   "outputs": [],
   "source": [
    "eigenvalues = []\n",
    "eigenfunctions = []\n",
    "for k in range(N_E):\n",
    "    if y_end[k]*y_end[k+1] < 0:\n",
    "        a, b = E[k], E[k+1]\n",
    "        err = 1\n",
    "        while err > s:\n",
    "            if propagator(y, V, a)[-1]*propagator(y, V, b)[-1] < 0:\n",
    "                c = (a+b)/2\n",
    "                if propagator(y, V, a)[-1]*propagator(y, V, c)[-1] < 0:\n",
    "                    b = c\n",
    "                else:\n",
    "                    a = c\n",
    "            err = b-a\n",
    "        e = (a+b)/2\n",
    "        v = propagator(y, V, e)\n",
    "        eigenvalues.append(e)\n",
    "        eigenfunctions.append(v/np.sqrt(np.sum(v**2)))"
   ]
  },
  {
   "cell_type": "code",
   "execution_count": null,
   "id": "4ee4fa61",
   "metadata": {},
   "outputs": [],
   "source": [
    "fig, ax = plt.subplots(nrows = 1, ncols=1, figsize=(15,12))\n",
    "\n",
    "ax.set_title('Normalized Eigenfunctions - Step Potential')\n",
    "ax.set_xlabel('$x$', fontsize=12)\n",
    "ax.set_ylabel('$\\psi \\: (x)$', fontsize=12)\n",
    "\n",
    "for i in range(len(eigenfunctions)):\n",
    "    ax.plot(np.linspace(0, L, N_x+1), eigenfunctions[i], label=f'$\\psi_{ {i} }$')\n",
    "\n",
    "ax.grid()\n",
    "ax.legend(loc=(1.01, 0.35))\n",
    "\n",
    "fig.savefig(\"images/step_potential.png\", dpi=300, bbox_inches=\"tight\", pad_inches=0.2);"
   ]
  },
  {
   "cell_type": "markdown",
   "id": "1c8a5585",
   "metadata": {},
   "source": [
    "**Harmonic Potential**"
   ]
  },
  {
   "cell_type": "code",
   "execution_count": null,
   "id": "1b278258",
   "metadata": {},
   "outputs": [],
   "source": [
    "V = np.zeros((N_x+1))\n",
    "for i, x in enumerate(np.linspace(0, L, N_x+1)):\n",
    "    V[i] = (x - L/2)**2 \n",
    "    \n",
    "y_end = np.zeros((N_E+1))\n",
    "for j in range(N_E+1):\n",
    "    y_end[j] = propagator(y, V, E[j])[-1]"
   ]
  },
  {
   "cell_type": "code",
   "execution_count": null,
   "id": "d2e3faef",
   "metadata": {},
   "outputs": [],
   "source": [
    "eigenvalues = []\n",
    "eigenfunctions = []\n",
    "for k in range(N_E):\n",
    "    if y_end[k]*y_end[k+1] < 0:\n",
    "        a, b = E[k], E[k+1]\n",
    "        err = 1\n",
    "        while err > s:\n",
    "            if propagator(y, V, a)[-1]*propagator(y, V, b)[-1] < 0:\n",
    "                c = (a+b)/2\n",
    "                if propagator(y, V, a)[-1]*propagator(y, V, c)[-1] < 0:\n",
    "                    b = c\n",
    "                else:\n",
    "                    a = c\n",
    "            err = b-a\n",
    "        e = (a+b)/2\n",
    "        v = propagator(y, V, e)\n",
    "        eigenvalues.append(e)\n",
    "        eigenfunctions.append(v/np.sqrt(np.sum(v**2)))"
   ]
  },
  {
   "cell_type": "code",
   "execution_count": null,
   "id": "3326c6ab",
   "metadata": {},
   "outputs": [],
   "source": [
    "fig, ax = plt.subplots(nrows = 1, ncols=1, figsize=(15,12))\n",
    "\n",
    "ax.set_title('Normalized Eigenfunctions - Harmonic Potential')\n",
    "ax.set_xlabel('$x$', fontsize=12)\n",
    "ax.set_ylabel('$\\psi \\: (x)$', fontsize=12)\n",
    "\n",
    "for i in range(len(eigenfunctions)):\n",
    "    ax.plot(np.linspace(0, L, N_x+1), eigenfunctions[i], label=f'$\\psi_{ {i} }$')\n",
    "\n",
    "ax.grid()\n",
    "ax.legend(loc=(1.01, 0.38))\n",
    "\n",
    "fig.savefig(\"images/harmonic_potential.png\", dpi=300, bbox_inches=\"tight\", pad_inches=0.2);"
   ]
  }
 ],
 "metadata": {
  "kernelspec": {
   "display_name": "Python 3 (ipykernel)",
   "language": "python",
   "name": "python3"
  },
  "language_info": {
   "codemirror_mode": {
    "name": "ipython",
    "version": 3
   },
   "file_extension": ".py",
   "mimetype": "text/x-python",
   "name": "python",
   "nbconvert_exporter": "python",
   "pygments_lexer": "ipython3",
   "version": "3.10.12"
  }
 },
 "nbformat": 4,
 "nbformat_minor": 5
}
