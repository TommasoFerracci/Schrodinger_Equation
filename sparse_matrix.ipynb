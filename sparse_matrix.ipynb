{
 "cells": [
  {
   "cell_type": "code",
   "execution_count": null,
   "id": "377a5e98",
   "metadata": {},
   "outputs": [],
   "source": [
    "import numpy as np\n",
    "import matplotlib.pyplot as plt\n",
    "from matplotlib import cm\n",
    "from scipy.sparse import csc_matrix\n",
    "from scipy.sparse import linalg\n",
    "\n",
    "plt.style.use(\"default\")\n",
    "plt.rc(\"text\", usetex=True)\n",
    "plt.rc(\"font\", family=\"cm\")\n",
    "plt.rcParams[\"grid.color\"] = (0.5, 0.5, 0.5, 0.2)"
   ]
  },
  {
   "cell_type": "code",
   "execution_count": null,
   "id": "8ef5b730",
   "metadata": {},
   "outputs": [],
   "source": [
    "L = 10 \n",
    "hbar = 1\n",
    "m = 1\n",
    "N_x = 100\n",
    "N_y = 100\n",
    "X, Y = np.meshgrid(np.linspace(0, L, N_x, dtype = float), \n",
    "                   np.linspace(0, L, N_y, dtype = float))\n",
    "h_x = L/N_x\n",
    "h_y = L/N_y"
   ]
  },
  {
   "cell_type": "markdown",
   "id": "39822bc1",
   "metadata": {},
   "source": [
    "**Infinite Square Well**"
   ]
  },
  {
   "cell_type": "code",
   "execution_count": null,
   "id": "9fb47ae2",
   "metadata": {},
   "outputs": [],
   "source": [
    "def get_infinite_well():\n",
    "    V = np.zeros((N_x, N_y))\n",
    "    return V"
   ]
  },
  {
   "cell_type": "markdown",
   "id": "5d52e910",
   "metadata": {},
   "source": [
    "**Infinite Square Well with Step**"
   ]
  },
  {
   "cell_type": "code",
   "execution_count": null,
   "id": "149b6259",
   "metadata": {},
   "outputs": [],
   "source": [
    "def get_infinite_well_step(V_0=0, a=0, b=L):\n",
    "    \"\"\"\n",
    "    V_0 = height of the step\n",
    "    a = beginning of the step\n",
    "    b = end of the step\n",
    "    \"\"\"\n",
    "    V = np.zeros((N_x, N_y))\n",
    "    for i, x in enumerate(np.linspace(0, L, N_x)):\n",
    "        for j, y in enumerate(np.linspace(0, L, N_y)):\n",
    "            if (x >= a and x <= b) and (y >= a and y <= b):\n",
    "                V[i, j] = V_0\n",
    "    return V            "
   ]
  },
  {
   "cell_type": "markdown",
   "id": "a23fd769",
   "metadata": {},
   "source": [
    "**Harmonic Potential**"
   ]
  },
  {
   "cell_type": "code",
   "execution_count": null,
   "id": "608554f8",
   "metadata": {},
   "outputs": [],
   "source": [
    "def get_harmonic(omega=0):\n",
    "    \"\"\"\n",
    "    omega = pulsation\n",
    "    \"\"\"\n",
    "    V = np.zeros((N_x, N_y))\n",
    "    for i, x in enumerate(np.linspace(0, L, N_x)):\n",
    "        for j, y in enumerate(np.linspace(0, L, N_y)):\n",
    "            V[i, j] = 0.5*omega*((x - 0.5*L)**2 + (y - 0.5*L)**2)\n",
    "    return V"
   ]
  },
  {
   "cell_type": "markdown",
   "id": "7fcd5d1f",
   "metadata": {},
   "source": [
    "**Stationary Schrodinger Equation:** <br><br>\n",
    "$-\\frac{\\hbar^2}{2m} \\nabla^2 \\psi(x, y) + V(x, y)\\psi(x, y) = E\\psi(x, y)$ <br><br>\n",
    "$ \\nabla^2 \\psi(x, y) - 2V(x, y)\\psi(x, y) = -2E\\psi(x, y)$ <br><br>\n",
    "let's define $M\\psi(x, y) = \\nabla^2 \\psi(x, y) - 2V(x, y)\\psi(x, y)$ and $H = -\\frac{1}{2}M$ (finite differences + boundary conditions)"
   ]
  },
  {
   "cell_type": "code",
   "execution_count": null,
   "id": "e037675f",
   "metadata": {},
   "outputs": [],
   "source": [
    "def get_hamiltonian(V):\n",
    "    \"\"\"\n",
    "    V = potential defined by previous functions\n",
    "    for i in [2, N_x-1] and j in [2, N_y-1] --> the wave function is zero at the boundary\n",
    "    \"\"\"\n",
    "    H = np.zeros(((N_x-2)*(N_y-2), (N_x-2)*(N_y-2)))\n",
    "    for i1 in range(2, N_x):\n",
    "        for j1 in range(2, N_y):\n",
    "            l = (j1-2)*(N_x-2) + (i1-2) # variable in [0, (N_x-2)(N_y-2)-1]\n",
    "            for i2 in range(2, N_x):\n",
    "                for j2 in range(2, N_y):\n",
    "                    m = (j2-2)*(N_x-2) + (i2-2) # variable in [0, (N_x-2)(N_y-2)-1]\n",
    "                    if (i1+1 == i2) and (j1 == j2) and (i1+1 != N_x):\n",
    "                        H[l, m] = 1/h_x**2\n",
    "                    elif (i1-1 == i2) and (j1 == j2) and (i1-1 != 1):\n",
    "                        H[l, m] = 1/h_x**2\n",
    "                    elif (i1 == i2) and (j1+1 == j2) and (j1+1 != N_y):\n",
    "                        H[l, m] = 1/h_y**2\n",
    "                    elif (i1 == i2) and (j1-1 == j2) and (j1-1 != 1):\n",
    "                        H[l, m] = 1/h_y**2\n",
    "                    elif (i1 == i2) and (j1 == j2):\n",
    "                        H[l, m] = -2*(1/h_x**2 + 1/h_y**2) -2*V[1:-1, 1:-1].reshape((N_x-2)*(N_y-2))[l]\n",
    "    return H"
   ]
  },
  {
   "cell_type": "code",
   "execution_count": null,
   "id": "2e27194d",
   "metadata": {},
   "outputs": [],
   "source": [
    "def solve_schrodinger(V, k):\n",
    "    \"\"\"\n",
    "    V = potential defined by previous functions\n",
    "    k = number of eigenvalues/eigenvectors to find\n",
    "    \"\"\"\n",
    "    H = get_hamiltonian(V)\n",
    "    sH = csc_matrix(H) # cast to scipy sparse matrix for better efficiency\n",
    "    eigenvalues, eigenvectors = linalg.eigsh(sH, k=k)\n",
    "    return eigenvalues, eigenvectors.T.reshape((k, N_x-2, N_y-2))"
   ]
  },
  {
   "cell_type": "code",
   "execution_count": null,
   "id": "d7108bcc",
   "metadata": {},
   "outputs": [],
   "source": [
    "def plot_solution_2D(eigenvector, fname):\n",
    "    \"\"\"\n",
    "    eigenvector = (N_x-2)(N_y-2) solution returned by solve_schrodinger\n",
    "    fname = filename\n",
    "    \"\"\"\n",
    "    fig, ax = plt.subplots(nrows=1, ncols=1, figsize=(5.5,5))\n",
    "    contour = ax.contourf(X[1:-1, 1:-1], Y[1:-1, 1:-1], eigenvector**2, cmap=cm.viridis)\n",
    "    ax.set_title('$|\\psi(x,y)|^2$')\n",
    "    ax.set_xlabel('x')\n",
    "    ax.set_ylabel('y', rotation=0)\n",
    "    fig.savefig(f\"images/solution_2D_{fname}\", dpi=300, bbox_inches=\"tight\", pad_inches=0.2)\n",
    "\n",
    "\n",
    "def plot_solution_3D(eigenvector, fname):\n",
    "    \"\"\"\n",
    "    eigenvector = (N_x-2)(N_y-2) solution returned by solve_schrodinger\n",
    "    fname = filename\n",
    "    \"\"\"\n",
    "    fig, ax = plt.subplots(nrows=1, ncols=1, figsize=(7,5), subplot_kw={\"projection\": \"3d\"})\n",
    "    ax.plot_surface(X[1:-1, 1:-1], Y[1:-1, 1:-1], eigenvector**2, rstride=1, cstride=1, cmap=cm.coolwarm, linewidth=0, antialiased=False)\n",
    "    ax.set_xlabel('x')\n",
    "    ax.set_ylabel('y')\n",
    "    ax.set_zlabel('$|\\psi(x,y)|^2$', rotation=90)\n",
    "    ax.tick_params(axis=\"both\", which=\"major\", labelsize=6)\n",
    "    ax.tick_params(axis=\"both\", which='minor', labelsize=6)\n",
    "    ax.view_init(elev=12, azim=30)\n",
    "    ax.zaxis.set_rotate_label(False)\n",
    "    fig.savefig(f\"images/solution_3D_{fname}\", dpi=300, bbox_inches=\"tight\", pad_inches=0.3)"
   ]
  },
  {
   "cell_type": "code",
   "execution_count": null,
   "id": "206a0470",
   "metadata": {},
   "outputs": [],
   "source": [
    "eigenvalues, eigenvectors = solve_schrodinger(get_infinite_well(), 10)"
   ]
  },
  {
   "cell_type": "code",
   "execution_count": null,
   "id": "3f8e0c4a",
   "metadata": {},
   "outputs": [],
   "source": [
    "%%capture\n",
    "plot_solution_2D(eigenvectors[0], \"well_0\")\n",
    "plot_solution_3D(eigenvectors[0], \"well_0\")\n",
    "\n",
    "plot_solution_2D(eigenvectors[3], \"well_3\")\n",
    "plot_solution_3D(eigenvectors[3], \"well_3\")\n",
    "\n",
    "plot_solution_2D(eigenvectors[6], \"well_6\")\n",
    "plot_solution_3D(eigenvectors[6], \"well_6\")"
   ]
  }
 ],
 "metadata": {
  "kernelspec": {
   "display_name": "Python 3 (ipykernel)",
   "language": "python",
   "name": "python3"
  },
  "language_info": {
   "codemirror_mode": {
    "name": "ipython",
    "version": 3
   },
   "file_extension": ".py",
   "mimetype": "text/x-python",
   "name": "python",
   "nbconvert_exporter": "python",
   "pygments_lexer": "ipython3",
   "version": "3.10.12"
  }
 },
 "nbformat": 4,
 "nbformat_minor": 5
}
